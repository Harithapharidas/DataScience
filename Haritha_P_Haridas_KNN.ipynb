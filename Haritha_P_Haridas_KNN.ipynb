{
  "nbformat": 4,
  "nbformat_minor": 0,
  "metadata": {
    "colab": {
      "provenance": [],
      "include_colab_link": true
    },
    "kernelspec": {
      "name": "python3",
      "display_name": "Python 3"
    },
    "language_info": {
      "name": "python"
    }
  },
  "cells": [
    {
      "cell_type": "markdown",
      "metadata": {
        "id": "view-in-github",
        "colab_type": "text"
      },
      "source": [
        "<a href=\"https://colab.research.google.com/github/Harithapharidas/DataScience/blob/main/Haritha_P_Haridas_KNN.ipynb\" target=\"_parent\"><img src=\"https://colab.research.google.com/assets/colab-badge.svg\" alt=\"Open In Colab\"/></a>"
      ]
    },
    {
      "cell_type": "markdown",
      "source": [
        "Aim: Program to implement k-NN classification using any standard dataset\n",
        "available in the public domain and find the accuracy of the algorithm"
      ],
      "metadata": {
        "id": "1-G_D6HglkG5"
      }
    },
    {
      "cell_type": "markdown",
      "source": [
        "Algorithm:\n",
        "\n",
        "The class of an unknown instance is computed using the following steps:\n",
        "\n",
        "1. The distance between the unknown instance and all other training instances is computed.\n",
        "2. The k nearest neighbors are identified.\n",
        "3. The class labels of the k nearest neighbors are used to determine the class label of the unknown instance by using techniques like majority voting."
      ],
      "metadata": {
        "id": "O4oCOHITmArc"
      }
    },
    {
      "cell_type": "code",
      "source": [
        "# KNN implementation using iris dataset\n",
        "#import modules\n",
        "from sklearn.model_selection import train_test_split\n",
        "from sklearn.neighbors import KNeighborsClassifier\n",
        "from sklearn.metrics import accuracy_score\n",
        "import pandas as pd\n",
        "\n",
        "\n",
        "#Load Dataset\n",
        "\n",
        "df=pd.read_csv(\"/content/iris-species (2).csv\")\n",
        "df.head()\n",
        "\n",
        "#Implement KNN model,check accuracy\n",
        "x=df[['SepalLengthCm','SepalWidthCm','PetalLengthCm','PetalWidthCm']]\n",
        "y=df['Species']\n",
        "print(x)\n",
        "print(y)\n",
        "x_train,x_test,y_train,y_test=train_test_split(x,y,test_size=0.3,random_state=100)\n",
        "\n"
      ],
      "metadata": {
        "id": "bpFl09msIjWv",
        "colab": {
          "base_uri": "https://localhost:8080/"
        },
        "outputId": "ef53ebec-2890-442c-bb43-8d945d9b9fd8"
      },
      "execution_count": null,
      "outputs": [
        {
          "output_type": "stream",
          "name": "stdout",
          "text": [
            "     SepalLengthCm  SepalWidthCm  PetalLengthCm  PetalWidthCm\n",
            "0              5.1           3.5            1.4           0.2\n",
            "1              4.9           3.0            1.4           0.2\n",
            "2              4.7           3.2            1.3           0.2\n",
            "3              4.6           3.1            1.5           0.2\n",
            "4              5.0           3.6            1.4           0.2\n",
            "..             ...           ...            ...           ...\n",
            "145            6.7           3.0            5.2           2.3\n",
            "146            6.3           2.5            5.0           1.9\n",
            "147            6.5           3.0            5.2           2.0\n",
            "148            6.2           3.4            5.4           2.3\n",
            "149            5.9           3.0            5.1           1.8\n",
            "\n",
            "[150 rows x 4 columns]\n",
            "0         Iris-setosa\n",
            "1         Iris-setosa\n",
            "2         Iris-setosa\n",
            "3         Iris-setosa\n",
            "4         Iris-setosa\n",
            "            ...      \n",
            "145    Iris-virginica\n",
            "146    Iris-virginica\n",
            "147    Iris-virginica\n",
            "148    Iris-virginica\n",
            "149    Iris-virginica\n",
            "Name: Species, Length: 150, dtype: object\n"
          ]
        }
      ]
    },
    {
      "cell_type": "code",
      "source": [
        "from sklearn import metrics\n",
        "#KNN implementation using animal dataset\n",
        "#import modules\n",
        "from sklearn.model_selection import train_test_split\n",
        "from sklearn.neighbors import KNeighborsClassifier\n",
        "from sklearn.metrics import accuracy_score\n",
        "import pandas as pd\n",
        "\n",
        "\n",
        "#Load Dataset\n",
        "df=pd.read_csv(\"/content/iris-species (2).csv\")\n",
        "df.head()\n",
        "\n",
        "\n",
        "#Implement KNN model,check accuracy\n",
        "c_knn=KNeighborsClassifier(n_neighbors=3)\n",
        "c_knn.fit(x_train,y_train)\n",
        "y_pred=c_knn.predict(x_test)\n",
        "print(\"Accuracy:\",metrics.accuracy_score(y_test,y_pred))\n",
        "sample=[[2,2,2,2]]\n",
        "pred=c_knn.predict(sample)\n",
        "print(pred)\n"
      ],
      "metadata": {
        "id": "cr2NDpQeK8re",
        "colab": {
          "base_uri": "https://localhost:8080/"
        },
        "outputId": "2db555de-be7d-43fc-bfc6-1f3f9ae63c2a"
      },
      "execution_count": null,
      "outputs": [
        {
          "output_type": "stream",
          "name": "stdout",
          "text": [
            "Accuracy: 0.9777777777777777\n",
            "['Iris-setosa']\n"
          ]
        },
        {
          "output_type": "stream",
          "name": "stderr",
          "text": [
            "/usr/local/lib/python3.10/dist-packages/sklearn/base.py:439: UserWarning: X does not have valid feature names, but KNeighborsClassifier was fitted with feature names\n",
            "  warnings.warn(\n"
          ]
        }
      ]
    }
  ]
}